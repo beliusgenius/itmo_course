{
  "nbformat": 4,
  "nbformat_minor": 0,
  "metadata": {
    "colab": {
      "provenance": []
    },
    "kernelspec": {
      "name": "python3",
      "display_name": "Python 3"
    },
    "language_info": {
      "name": "python"
    }
  },
  "cells": [
    {
      "cell_type": "code",
      "execution_count": null,
      "metadata": {
        "id": "yPHxp0d-F-ur",
        "colab": {
          "base_uri": "https://localhost:8080/"
        },
        "outputId": "ef8f0d09-662a-4663-82ee-cd10a46eba99"
      },
      "outputs": [
        {
          "output_type": "stream",
          "name": "stdout",
          "text": [
            "Шоколадный батончик, 100 рублей\n",
            "Обычный шоколадный батончик\n",
            "\n",
            "Цена должна быть больше нуля\n",
            "\n",
            "Шоколадный батончик, 1234 рублей\n",
            "Шоколадный батончик, добавка: Nuts\n",
            "\n"
          ]
        }
      ],
      "source": [
        "# Создайте класс Chocolate (для определения шоколадного батончика), принимающий следующие аргументы при инициализации: цена батончика (тип - float), добавка к шоколаду (необязательный аргумент, тип - str) - 2 балла\n",
        "# При инициализации необходимо проверять, чтобы цена батончика была больше нуля, если цена меньше нуля необходимо вызывать исключение ValueError - 2 балла\n",
        "# Реализуйте метод show_my_chocolate, выводящий на печать \"Шоколадный батончик, добавка: {ДОБАВКА}\" в случае наличия добавки, а иначе должна отобразиться следующая фраза: \"Обычный шоколадный батончик\" - 2 балла\n",
        "# Переопределите метод __str__, который при применении функции print() к объекты класса Chocolate должен возвращать строку \"Шоколадный батончик, <ЦЕНА> рублей\" - 2 балла\n",
        "# Продемонстрируйте использование соответствующего функционала вашего класса, создав несколько объектов Chocolate с различными аргументами - 2 балла\n",
        "\n",
        "class Chocolate:\n",
        "    def __init__(self, price, supplement=None):\n",
        "        if price <= 0:\n",
        "            raise ValueError(\"Цена должна быть больше нуля\")\n",
        "        self.price = price\n",
        "        self.supplement = supplement\n",
        "\n",
        "    def show_my_chocolate(self):\n",
        "        if self.supplement:\n",
        "            print(f\"Шоколадный батончик, добавка: {self.supplement}\")\n",
        "        else:\n",
        "            print(\"Обычный шоколадный батончик\")\n",
        "\n",
        "    def __str__(self):\n",
        "        return f\"Шоколадный батончик, {self.price} рублей\"\n",
        "\n",
        "try:\n",
        "    alenka = Chocolate(100)\n",
        "    print(alenka)\n",
        "    alenka.show_my_chocolate()\n",
        "except ValueError:\n",
        "    print(\"Цена должна быть больше нуля\")\n",
        "print()\n",
        "\n",
        "try:\n",
        "    alpen_gold = Chocolate(-1)\n",
        "    print(alpen_gold)\n",
        "    alpen_gold.show_my_chocolate()\n",
        "except ValueError:\n",
        "    print(\"Цена должна быть больше нуля\")\n",
        "print()\n",
        "\n",
        "try:\n",
        "    dubai_choco = Chocolate(1234, 'Nuts')\n",
        "    print(dubai_choco)\n",
        "    dubai_choco.show_my_chocolate()\n",
        "except ValueError:\n",
        "    print(\"Цена должна быть больше нуля\")\n",
        "print()"
      ]
    },
    {
      "cell_type": "code",
      "source": [],
      "metadata": {
        "id": "O2MueBOorJT0"
      },
      "execution_count": null,
      "outputs": []
    }
  ]
}