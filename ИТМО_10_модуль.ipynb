{
  "nbformat": 4,
  "nbformat_minor": 0,
  "metadata": {
    "colab": {
      "provenance": []
    },
    "kernelspec": {
      "name": "python3",
      "display_name": "Python 3"
    },
    "language_info": {
      "name": "python"
    }
  },
  "cells": [
    {
      "cell_type": "code",
      "execution_count": null,
      "metadata": {
        "colab": {
          "base_uri": "https://localhost:8080/"
        },
        "id": "URElbybf0oPp",
        "outputId": "19bb86a6-bc65-4dd1-a1d9-23020f1a79e1"
      },
      "outputs": [
        {
          "output_type": "stream",
          "name": "stdout",
          "text": [
            "Mounted at /content/drive\n"
          ]
        }
      ],
      "source": [
        "from google.colab import drive\n",
        "drive.mount('/content/drive')"
      ]
    },
    {
      "cell_type": "code",
      "source": [
        "import pandas as pd\n",
        "df = pd.read_csv('/content/drive/MyDrive/realty_data.csv')"
      ],
      "metadata": {
        "id": "RV4GzhdS036y"
      },
      "execution_count": null,
      "outputs": []
    },
    {
      "cell_type": "code",
      "source": [
        "! pip install streamlit -q"
      ],
      "metadata": {
        "colab": {
          "base_uri": "https://localhost:8080/"
        },
        "id": "cesJS9yf1Wis",
        "outputId": "237e8a57-0026-46c1-d635-16e631f9b590"
      },
      "execution_count": null,
      "outputs": [
        {
          "output_type": "stream",
          "name": "stdout",
          "text": [
            "\u001b[2K     \u001b[90m━━━━━━━━━━━━━━━━━━━━━━━━━━━━━━━━━━━━━━━━\u001b[0m \u001b[32m44.3/44.3 kB\u001b[0m \u001b[31m1.6 MB/s\u001b[0m eta \u001b[36m0:00:00\u001b[0m\n",
            "\u001b[2K   \u001b[90m━━━━━━━━━━━━━━━━━━━━━━━━━━━━━━━━━━━━━━━━\u001b[0m \u001b[32m9.9/9.9 MB\u001b[0m \u001b[31m65.2 MB/s\u001b[0m eta \u001b[36m0:00:00\u001b[0m\n",
            "\u001b[2K   \u001b[90m━━━━━━━━━━━━━━━━━━━━━━━━━━━━━━━━━━━━━━━━\u001b[0m \u001b[32m6.9/6.9 MB\u001b[0m \u001b[31m97.2 MB/s\u001b[0m eta \u001b[36m0:00:00\u001b[0m\n",
            "\u001b[2K   \u001b[90m━━━━━━━━━━━━━━━━━━━━━━━━━━━━━━━━━━━━━━━━\u001b[0m \u001b[32m79.1/79.1 kB\u001b[0m \u001b[31m5.1 MB/s\u001b[0m eta \u001b[36m0:00:00\u001b[0m\n",
            "\u001b[?25h"
          ]
        }
      ]
    },
    {
      "cell_type": "code",
      "source": [
        "%%writefile /content/app.py\n",
        "import streamlit as st\n",
        "import pandas as pd\n",
        "from sklearn.model_selection import train_test_split\n",
        "from sklearn.linear_model import LinearRegression\n",
        "from sklearn.metrics import mean_absolute_error\n",
        "\n",
        "st.set_page_config(page_title=\"Прогноз стоимости недвижимости\", layout=\"wide\")\n",
        "st.title(\"🏠 Прогноз стоимости недвижимости\")\n",
        "\n",
        "@st.cache_data\n",
        "def load_data(path: str) -> pd.DataFrame:\n",
        "    df = pd.read_csv(path)\n",
        "    # Оставляем только нужные столбцы\n",
        "    cols = [\"total_square\", \"rooms\", \"price\"]\n",
        "    df = df[cols]\n",
        "    # Убираем пропуски\n",
        "    df = df.dropna()\n",
        "    return df\n",
        "\n",
        "DATA_PATH = \"/content/drive/MyDrive/realty_data.csv\"\n",
        "df = load_data(DATA_PATH)\n",
        "\n",
        "st.write(\"# Последние 5 строк для примера датасета)\")\n",
        "st.dataframe(df.tail())\n",
        "\n",
        "# Проверяем наличие столбцов\n",
        "FEATURES = [\"total_square\", \"rooms\"]\n",
        "TARGET   = \"price\"\n",
        "missing = [c for c in FEATURES + [TARGET] if c not in df.columns]\n",
        "if missing:\n",
        "    st.error(f\"В данных нет колонок {missing}.\")\n",
        "    st.stop()\n",
        "\n",
        "# Разбиение на train/test\n",
        "X = df[FEATURES]\n",
        "y = df[TARGET]\n",
        "X_train, X_test, y_train, y_test = train_test_split(\n",
        "    X, y, test_size=0.25, random_state=42\n",
        ")\n",
        "\n",
        "# Обучаем модель\n",
        "model = LinearRegression()\n",
        "model.fit(X_train, y_train)\n",
        "\n",
        "# Оценим качество на отложенной выборке\n",
        "y_pred = model.predict(X_test)\n",
        "mae = mean_absolute_error(y_test, y_pred)\n",
        "st.sidebar.markdown(f\"**MAE на тесте:** {mae:,.0f} ₽\")\n",
        "\n",
        "# Виджет для ввода параметров\n",
        "st.sidebar.header(\"Параметры для прогноза\")\n",
        "sq_default   = float(df[\"total_square\"].median())\n",
        "rooms_default = int(df[\"rooms\"].median())\n",
        "\n",
        "total_square = st.sidebar.number_input(\n",
        "    \"Общая площадь, м²\", min_value=1.0, value=sq_default, step=1.0\n",
        ")\n",
        "rooms = st.sidebar.number_input(\n",
        "    \"Кол-во комнат\",   min_value=1,   value=rooms_default, step=1\n",
        ")\n",
        "\n",
        "if st.sidebar.button(\"Посчитать цену\"):\n",
        "    X_new = pd.DataFrame([[total_square, rooms]], columns=FEATURES)\n",
        "    price_pred = model.predict(X_new)[0]\n",
        "    st.success(f\"💰 Предполагаемая цена: {price_pred:,.0f} ₽\")"
      ],
      "metadata": {
        "colab": {
          "base_uri": "https://localhost:8080/"
        },
        "id": "ZAFLBXMy3kIp",
        "outputId": "80783e2b-6f76-4911-dec1-c71eeb33f3be"
      },
      "execution_count": null,
      "outputs": [
        {
          "output_type": "stream",
          "name": "stdout",
          "text": [
            "Overwriting /content/app.py\n"
          ]
        }
      ]
    },
    {
      "cell_type": "code",
      "source": [
        "!wget -q -O - ipv4.icanhazip.com"
      ],
      "metadata": {
        "colab": {
          "base_uri": "https://localhost:8080/"
        },
        "id": "Tv7tT3701i_j",
        "outputId": "924f4016-b6c7-41c0-e129-461179b5e97d"
      },
      "execution_count": null,
      "outputs": [
        {
          "output_type": "stream",
          "name": "stdout",
          "text": [
            "34.23.209.37\n"
          ]
        }
      ]
    },
    {
      "cell_type": "code",
      "source": [
        "!npm install -g localtunnel"
      ],
      "metadata": {
        "colab": {
          "base_uri": "https://localhost:8080/"
        },
        "id": "fNeWCHuR2rau",
        "outputId": "dddd5967-af3b-4b76-fdd6-45696095b5d4"
      },
      "execution_count": null,
      "outputs": [
        {
          "output_type": "stream",
          "name": "stdout",
          "text": [
            "\u001b[1G\u001b[0K⠙\u001b[1G\u001b[0K⠹\u001b[1G\u001b[0K⠸\u001b[1G\u001b[0K⠼\u001b[1G\u001b[0K⠴\u001b[1G\u001b[0K⠦\u001b[1G\u001b[0K⠧\u001b[1G\u001b[0K\n",
            "changed 22 packages in 877ms\n",
            "\u001b[1G\u001b[0K⠧\u001b[1G\u001b[0K\n",
            "\u001b[1G\u001b[0K⠧\u001b[1G\u001b[0K3 packages are looking for funding\n",
            "\u001b[1G\u001b[0K⠧\u001b[1G\u001b[0K  run `npm fund` for details\n",
            "\u001b[1G\u001b[0K⠧\u001b[1G\u001b[0K"
          ]
        }
      ]
    },
    {
      "cell_type": "code",
      "source": [
        "from google.colab import drive\n",
        "drive.mount('/content/drive')\n",
        "\n",
        "!pip install -q streamlit\n",
        "!npm install -g localtunnel\n",
        "\n",
        "# Запуск Streamlit и туннеля\n",
        "import os\n",
        "os.chdir('/content')\n",
        "get_ipython().system_raw('streamlit run app.py &> logs.txt &')\n",
        "get_ipython().system_raw('lt --port 8501 --subdomain realty-demo &')\n",
        "\n",
        "print(\"Приложение стартовало, зайдите на https://realty-demo.loca.lt\")"
      ],
      "metadata": {
        "colab": {
          "base_uri": "https://localhost:8080/"
        },
        "id": "nfJ2NHGD3pdT",
        "outputId": "a26384e3-c030-4294-ab97-806a00a5b22f"
      },
      "execution_count": null,
      "outputs": [
        {
          "output_type": "stream",
          "name": "stdout",
          "text": [
            "Drive already mounted at /content/drive; to attempt to forcibly remount, call drive.mount(\"/content/drive\", force_remount=True).\n",
            "\u001b[1G\u001b[0K⠙\u001b[1G\u001b[0K⠹\u001b[1G\u001b[0K⠸\u001b[1G\u001b[0K⠼\u001b[1G\u001b[0K⠴\u001b[1G\u001b[0K⠦\u001b[1G\u001b[0K⠧\u001b[1G\u001b[0K⠇\u001b[1G\u001b[0K⠏\u001b[1G\u001b[0K⠋\u001b[1G\u001b[0K⠙\u001b[1G\u001b[0K⠹\u001b[1G\u001b[0K⠸\u001b[1G\u001b[0K⠼\u001b[1G\u001b[0K⠴\u001b[1G\u001b[0K⠦\u001b[1G\u001b[0K⠧\u001b[1G\u001b[0K⠇\u001b[1G\u001b[0K⠏\u001b[1G\u001b[0K⠋\u001b[1G\u001b[0K⠙\u001b[1G\u001b[0K⠹\u001b[1G\u001b[0K⠸\u001b[1G\u001b[0K⠼\u001b[1G\u001b[0K⠴\u001b[1G\u001b[0K⠦\u001b[1G\u001b[0K\n",
            "changed 22 packages in 2s\n",
            "\u001b[1G\u001b[0K⠦\u001b[1G\u001b[0K\n",
            "\u001b[1G\u001b[0K⠦\u001b[1G\u001b[0K3 packages are looking for funding\n",
            "\u001b[1G\u001b[0K⠦\u001b[1G\u001b[0K  run `npm fund` for details\n",
            "\u001b[1G\u001b[0K⠦\u001b[1G\u001b[0KПриложение стартовало, зайдите на https://realty-demo.loca.lt\n"
          ]
        }
      ]
    },
    {
      "cell_type": "markdown",
      "source": [],
      "metadata": {
        "id": "ePjQnpCX4BEP"
      }
    },
    {
      "cell_type": "code",
      "source": [
        "# 1) Устанавливаем FastAPI и зависимости\n",
        "!pip install fastapi pytest requests -q\n",
        "\n",
        "# 2) Импортируем ваш модуль и TestClient\n",
        "from fastapi.testclient import TestClient\n",
        "import main  # ваш файл main.py\n",
        "\n",
        "client = TestClient(main.app)\n",
        "\n",
        "# 3) Тестируем health-check\n",
        "resp = client.get(\"/health\")\n",
        "print(\"GET /health ->\", resp.status_code, resp.json())\n",
        "\n",
        "# 4) Тестируем GET-предсказание\n",
        "params = {\"total_square\": 75, \"rooms\": 3}\n",
        "resp = client.get(\"/predict_get\", params=params)\n",
        "print(f\"GET /predict_get?{params} ->\", resp.status_code, resp.json())\n",
        "\n",
        "# 5) Тестируем POST-предсказание\n",
        "payload = {\"total_square\": 75, \"rooms\": 3}\n",
        "resp = client.post(\"/predict_post\", json=payload)\n",
        "print(\"POST /predict_post\", payload, \"->\", resp.status_code, resp.json())"
      ],
      "metadata": {
        "colab": {
          "base_uri": "https://localhost:8080/"
        },
        "id": "pJnRPAqtZhPt",
        "outputId": "5625b326-b5ca-4e25-80eb-eb83a8dd884d"
      },
      "execution_count": null,
      "outputs": [
        {
          "output_type": "stream",
          "name": "stdout",
          "text": [
            "GET /health -> 200 {'status': 'alive'}\n",
            "GET /predict_get?{'total_square': 75, 'rooms': 3} -> 200 {'prediction': 26677855.28774394}\n",
            "POST /predict_post {'total_square': 75, 'rooms': 3} -> 200 {'prediction': 26677855.28774394}\n"
          ]
        },
        {
          "output_type": "stream",
          "name": "stderr",
          "text": [
            "/usr/local/lib/python3.11/dist-packages/sklearn/utils/validation.py:2739: UserWarning: X does not have valid feature names, but LinearRegression was fitted with feature names\n",
            "  warnings.warn(\n",
            "/usr/local/lib/python3.11/dist-packages/sklearn/utils/validation.py:2739: UserWarning: X does not have valid feature names, but LinearRegression was fitted with feature names\n",
            "  warnings.warn(\n"
          ]
        }
      ]
    }
  ]
}